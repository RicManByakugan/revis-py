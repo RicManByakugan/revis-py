{
 "cells": [
  {
   "cell_type": "code",
   "execution_count": 7,
   "metadata": {},
   "outputs": [
    {
     "name": "stdout",
     "output_type": "stream",
     "text": [
      "['apple', 'orange', 'banana', 'grapes', 'mango', 'kiwi']\n",
      "['apple', 'orange', 'grapes', 'mango', 'kiwi']\n"
     ]
    }
   ],
   "source": [
    "listFruits = ['apple', 'orange', 'banana', 'grapes', 'mango']\n",
    "\n",
    "listFruits.append('kiwi')\n",
    "print(listFruits)\n",
    "\n",
    "if 'banana' in listFruits:\n",
    "    listFruits.remove('banana')\n",
    "print(listFruits)"
   ]
  },
  {
   "cell_type": "code",
   "execution_count": 12,
   "metadata": {},
   "outputs": [
    {
     "name": "stdout",
     "output_type": "stream",
     "text": [
      "Number is pair\n"
     ]
    }
   ],
   "source": [
    "Number = int(input(\"Enter number: \"))\n",
    "\n",
    "if Number % 2 == 0:\n",
    "    print(\"Number is pair\")\n",
    "else:\n",
    "    print(\"Number is odd\")"
   ]
  },
  {
   "cell_type": "code",
   "execution_count": 1,
   "metadata": {},
   "outputs": [
    {
     "name": "stdout",
     "output_type": "stream",
     "text": [
      "6\n"
     ]
    }
   ],
   "source": [
    "NumberList = [1, 3, 2]\n",
    "\n",
    "def sommeList(numberList):\n",
    "    sum = 0\n",
    "    for i in numberList:\n",
    "        sum += i\n",
    "    return sum\n",
    "print(sommeList(NumberList))\n"
   ]
  },
  {
   "cell_type": "code",
   "execution_count": 3,
   "metadata": {},
   "outputs": [],
   "source": [
    "with open('test.txt', 'w') as f:\n",
    "    f.write('Name-Man-Grand')\n",
    "    f.close()"
   ]
  },
  {
   "cell_type": "code",
   "execution_count": 14,
   "metadata": {},
   "outputs": [
    {
     "name": "stdout",
     "output_type": "stream",
     "text": [
      "['Grand']\n"
     ]
    }
   ],
   "source": [
    "value = \"\"\n",
    "with open('test.txt', 'r') as f:\n",
    "    value = f.read()\n",
    "    f.close()\n",
    "tab = value.split('-')\n",
    "print(tab[2:])"
   ]
  }
 ],
 "metadata": {
  "kernelspec": {
   "display_name": "Python 3",
   "language": "python",
   "name": "python3"
  },
  "language_info": {
   "codemirror_mode": {
    "name": "ipython",
    "version": 3
   },
   "file_extension": ".py",
   "mimetype": "text/x-python",
   "name": "python",
   "nbconvert_exporter": "python",
   "pygments_lexer": "ipython3",
   "version": "3.12.3"
  }
 },
 "nbformat": 4,
 "nbformat_minor": 2
}
