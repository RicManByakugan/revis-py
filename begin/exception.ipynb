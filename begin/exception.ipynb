{
 "cells": [
  {
   "cell_type": "code",
   "execution_count": 9,
   "metadata": {},
   "outputs": [
    {
     "data": {
      "text/plain": [
       "{'Man': {'age': 12, 'grade': 8, 'subjects': ['Math', 'Science', 'English']},\n",
       " 'Bob': {'age': 15,\n",
       "  'grade': 10,\n",
       "  'subjects': ['Math', 'Science', 'History', 'Geography']},\n",
       " 'Charlie': {'age': 10,\n",
       "  'grade': 9,\n",
       "  'subjects': ['Math', 'Science', 'English', 'Biology']},\n",
       " 'Eric': {'age': 13, 'grade': 8, 'subjects': ['Math', 'Science', 'English']}}"
      ]
     },
     "execution_count": 9,
     "metadata": {},
     "output_type": "execute_result"
    }
   ],
   "source": [
    "import json\n",
    "\n",
    "class NotFileJsonException(Exception):\n",
    "    def __init__(self):\n",
    "        self.message = \"Not a file or not a json file\"\n",
    "        \n",
    "        \n",
    "def loadFileJson(filename):\n",
    "    try:\n",
    "        if not filename.endswith('.json'):\n",
    "            raise NotFileJsonException()\n",
    "        with open(filename, 'r') as file:\n",
    "            return json.load(file)\n",
    "    except FileNotFoundError as e:\n",
    "        print(e.strerror)\n",
    "    except NotFileJsonException as e:\n",
    "        print(e.message)\n",
    "    \n",
    "loadFileJson(\"eleve.json\")"
   ]
  }
 ],
 "metadata": {
  "kernelspec": {
   "display_name": "Python 3",
   "language": "python",
   "name": "python3"
  },
  "language_info": {
   "codemirror_mode": {
    "name": "ipython",
    "version": 3
   },
   "file_extension": ".py",
   "mimetype": "text/x-python",
   "name": "python",
   "nbconvert_exporter": "python",
   "pygments_lexer": "ipython3",
   "version": "3.12.3"
  }
 },
 "nbformat": 4,
 "nbformat_minor": 2
}
