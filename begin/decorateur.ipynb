{
 "cells": [
  {
   "cell_type": "code",
   "execution_count": 2,
   "metadata": {},
   "outputs": [
    {
     "name": "stdout",
     "output_type": "stream",
     "text": [
      "addition params (3, 4), {}\n",
      "7\n"
     ]
    }
   ],
   "source": [
    "def decorateur(fonction):\n",
    "    def wrapper(*args, **kwargs):\n",
    "        print(f\"{fonction.__name__} params {args}, {kwargs}\")\n",
    "        return fonction(*args, **kwargs)  # Exécution normale\n",
    "    return wrapper\n",
    "\n",
    "@decorateur\n",
    "def addition(a, b):\n",
    "    return a + b\n",
    "\n",
    "print(addition(3, 4))\n"
   ]
  },
  {
   "cell_type": "code",
   "execution_count": 11,
   "metadata": {},
   "outputs": [
    {
     "name": "stdout",
     "output_type": "stream",
     "text": [
      "Execution des instructions\n"
     ]
    }
   ],
   "source": [
    "user = \"olivier\"\n",
    "\n",
    "def mon_decorateur(fonction):\n",
    "\n",
    "    def autre_fonction():\n",
    "        print(\"Action refusée\")\n",
    "\n",
    "    if user != \"olivier\":\n",
    "        return autre_fonction\n",
    "\n",
    "    return fonction \n",
    "\n",
    "\n",
    "@mon_decorateur\n",
    "def do_that():\n",
    "    print(\"Execution des instructions\")\n",
    "    \n",
    "do_that()"
   ]
  }
 ],
 "metadata": {
  "kernelspec": {
   "display_name": "Python 3",
   "language": "python",
   "name": "python3"
  },
  "language_info": {
   "codemirror_mode": {
    "name": "ipython",
    "version": 3
   },
   "file_extension": ".py",
   "mimetype": "text/x-python",
   "name": "python",
   "nbconvert_exporter": "python",
   "pygments_lexer": "ipython3",
   "version": "3.12.3"
  }
 },
 "nbformat": 4,
 "nbformat_minor": 2
}
