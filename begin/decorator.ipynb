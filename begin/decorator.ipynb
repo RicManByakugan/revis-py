{
 "cells": [
  {
   "cell_type": "code",
   "execution_count": 3,
   "metadata": {},
   "outputs": [
    {
     "name": "stdout",
     "output_type": "stream",
     "text": [
      "Something is happening before the function is called.\n",
      "Hello, World!\n",
      "Something is happening after the function is called.\n"
     ]
    }
   ],
   "source": [
    "def decorator(func):\n",
    "    def wrapper():\n",
    "        print(\"Something is happening before the function is called.\")\n",
    "        func()\n",
    "        print(\"Something is happening after the function is called.\")\n",
    "    return wrapper\n",
    "\n",
    "@decorator\n",
    "def greeting():\n",
    "    print(\"Hello, World!\")\n",
    "    \n",
    "greeting()"
   ]
  },
  {
   "cell_type": "code",
   "execution_count": 5,
   "metadata": {},
   "outputs": [
    {
     "name": "stdout",
     "output_type": "stream",
     "text": [
      "Delete items\n",
      "Is not Admin\n",
      "Update items\n"
     ]
    }
   ],
   "source": [
    "def is_admin(func):\n",
    "    def wrapper(role):\n",
    "        if role == 'admin':\n",
    "            func()\n",
    "        else:\n",
    "            print(\"Is not Admin\")\n",
    "    return wrapper\n",
    "\n",
    "@is_admin\n",
    "def delete_items():\n",
    "    print(\"Delete items\")\n",
    "    \n",
    "@is_admin\n",
    "def update_items():\n",
    "    print(\"Update items\")\n",
    "    \n",
    "@is_admin\n",
    "def create_items():\n",
    "    print(\"Create items\")\n",
    "    \n",
    "delete_items('admin')\n",
    "create_items('user')\n",
    "update_items('admin')"
   ]
  },
  {
   "cell_type": "code",
   "execution_count": 8,
   "metadata": {},
   "outputs": [
    {
     "name": "stdout",
     "output_type": "stream",
     "text": [
      "Simple function\n"
     ]
    }
   ],
   "source": [
    "import time\n",
    "\n",
    "def decorator_with_params(delay=1):\n",
    "    def decorator(func):\n",
    "        def wrapper():\n",
    "            time.sleep(delay)\n",
    "            func()\n",
    "        return wrapper\n",
    "    return decorator\n",
    "\n",
    "@decorator_with_params(delay=5)\n",
    "def simple_function():\n",
    "    print(\"Simple function\")\n",
    "    \n",
    "simple_function()"
   ]
  },
  {
   "cell_type": "code",
   "execution_count": 2,
   "metadata": {},
   "outputs": [
    {
     "name": "stdout",
     "output_type": "stream",
     "text": [
      "Hello\n",
      "Bye\n",
      "hello_command\n",
      "bye_command\n"
     ]
    }
   ],
   "source": [
    "def command_handlers(func):\n",
    "    if not hasattr(command_handlers, \"commands\"):\n",
    "        command_handlers.commands = []\n",
    "    \n",
    "    def wrapper():\n",
    "        command_handlers.commands.append(func.__name__)\n",
    "        func()\n",
    "    return wrapper\n",
    "\n",
    "\n",
    "@command_handlers\n",
    "def hello_command():\n",
    "    print(\"Hello\")\n",
    "\n",
    "@command_handlers\n",
    "def bye_command():\n",
    "    print(\"Bye\")\n",
    "    \n",
    "hello_command()\n",
    "bye_command()\n",
    "\n",
    "for command in command_handlers.commands:\n",
    "    print(command)"
   ]
  }
 ],
 "metadata": {
  "kernelspec": {
   "display_name": "Python 3",
   "language": "python",
   "name": "python3"
  },
  "language_info": {
   "codemirror_mode": {
    "name": "ipython",
    "version": 3
   },
   "file_extension": ".py",
   "mimetype": "text/x-python",
   "name": "python",
   "nbconvert_exporter": "python",
   "pygments_lexer": "ipython3",
   "version": "3.12.3"
  }
 },
 "nbformat": 4,
 "nbformat_minor": 2
}
