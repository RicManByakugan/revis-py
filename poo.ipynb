{
 "cells": [
  {
   "cell_type": "code",
   "execution_count": 3,
   "metadata": {},
   "outputs": [
    {
     "name": "stdout",
     "output_type": "stream",
     "text": [
      "Pseudo: Man, Health: 20, Attack: 3\n",
      "Pseudo: Bob, Health: 20, Attack: 5\n",
      "Man attack Bob\n",
      "Bob attack Man\n",
      "Pseudo: Man, Health: 15, Attack: 3\n",
      "Pseudo: Bob, Health: 7, Attack: 5\n"
     ]
    }
   ],
   "source": [
    "from model.player import Player\n",
    "from model.weapon import Weapon\n",
    "\n",
    "def playerinformation(playerList):\n",
    "    for player in playerList:\n",
    "        print(player.get_information())\n",
    "\n",
    "couteau = Weapon(\"Couteau\", 10)\n",
    "player1 = Player(\"Man\", 20, 3)\n",
    "player1.set_weapon(couteau)\n",
    "player2 = Player(\"Bob\", 20, 5)\n",
    "\n",
    "playerinformation([player1, player2])\n",
    "\n",
    "player1.attack_player(player2)\n",
    "player2.attack_player(player1)\n",
    "\n",
    "playerinformation([player1, player2])"
   ]
  },
  {
   "cell_type": "code",
   "execution_count": 3,
   "metadata": {},
   "outputs": [
    {
     "name": "stdout",
     "output_type": "stream",
     "text": [
      "Tweety\n",
      "Chirp\n",
      "Grizzly\n",
      "Howl\n"
     ]
    }
   ],
   "source": [
    "class Animal:\n",
    "    def __init__(self, name):\n",
    "        self.__name = name\n",
    "\n",
    "    def get_name(self):\n",
    "        return self.__name\n",
    "\n",
    "    def make_sound(self):\n",
    "        return \"Sound\"\n",
    "\n",
    "class Bird(Animal):\n",
    "    def make_sound(self):\n",
    "        return \"Chirp\"\n",
    "\n",
    "class Wolve(Animal):\n",
    "    def make_sound(self):\n",
    "        return \"Howl\"\n",
    "\n",
    "bird = Bird(\"Tweety\")\n",
    "\n",
    "print(bird.get_name())\n",
    "\n",
    "print(bird.make_sound())\n",
    "\n",
    "wolf = Wolve(\"Grizzly\")\n",
    "\n",
    "print(wolf.get_name())\n",
    "\n",
    "print(wolf.make_sound())"
   ]
  },
  {
   "cell_type": "markdown",
   "metadata": {},
   "source": [
    "## POLYMORPHISME"
   ]
  },
  {
   "cell_type": "code",
   "execution_count": 4,
   "metadata": {},
   "outputs": [
    {
     "name": "stdout",
     "output_type": "stream",
     "text": [
      "Voler\n",
      "Voler\n"
     ]
    }
   ],
   "source": [
    "class Oiseau:\n",
    "    def voler(self):\n",
    "        print(\"Oiseau qui vole\")\n",
    "\n",
    "class Avion:\n",
    "    def voler(self):\n",
    "        print(\"Avion qui vole\")\n",
    "        \n",
    "def voler(objet):\n",
    "    objet.voler()\n",
    "    \n",
    "oiseau = Oiseau()\n",
    "avion = Avion()\n",
    "\n",
    "voler(oiseau)\n",
    "\n",
    "voler(avion)"
   ]
  },
  {
   "cell_type": "code",
   "execution_count": 6,
   "metadata": {},
   "outputs": [
    {
     "name": "stdout",
     "output_type": "stream",
     "text": [
      "50\n"
     ]
    }
   ],
   "source": [
    "class Rectangle:\n",
    "    def __init__(self, longueur, largeur):\n",
    "        self.__longueur = longueur\n",
    "        self.__largeur = largeur\n",
    "    \n",
    "    def calculAir(self):\n",
    "        return self.__longueur * self.__largeur\n",
    "    \n",
    "    \n",
    "    \n",
    "rect = Rectangle(5, 10)\n",
    "\n",
    "print(rect.calculAir())"
   ]
  },
  {
   "cell_type": "code",
   "execution_count": null,
   "metadata": {},
   "outputs": [],
   "source": [
    "# BATIMENT\n"
   ]
  }
 ],
 "metadata": {
  "kernelspec": {
   "display_name": "Python 3",
   "language": "python",
   "name": "python3"
  },
  "language_info": {
   "codemirror_mode": {
    "name": "ipython",
    "version": 3
   },
   "file_extension": ".py",
   "mimetype": "text/x-python",
   "name": "python",
   "nbconvert_exporter": "python",
   "pygments_lexer": "ipython3",
   "version": "3.12.3"
  }
 },
 "nbformat": 4,
 "nbformat_minor": 2
}
