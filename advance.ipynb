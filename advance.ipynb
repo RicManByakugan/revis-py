{
 "cells": [
  {
   "cell_type": "code",
   "execution_count": 17,
   "metadata": {},
   "outputs": [
    {
     "name": "stdout",
     "output_type": "stream",
     "text": [
      "Bonjour \n",
      "Python\n"
     ]
    }
   ],
   "source": [
    "with open(\"test.txt\", \"w\") as f:\n",
    "    f.write(\"Bonjour \\nPython\")\n",
    "\n",
    "with open(\"test.txt\", \"r\") as f:\n",
    "    contenu = f.read()\n",
    "    print(contenu)\n",
    "\n",
    "\n",
    "# Quelle est la différence entre w et a dans open() ?\n",
    "# 👉 w écrase le fichier, a ajoute à la fin.\n"
   ]
  },
  {
   "cell_type": "code",
   "execution_count": 3,
   "metadata": {},
   "outputs": [
    {
     "name": "stdout",
     "output_type": "stream",
     "text": [
      "3\n",
      "6\n"
     ]
    }
   ],
   "source": [
    "def add(a, b):\n",
    "    return a + b\n",
    "\n",
    "res = add(1, 2)\n",
    "\n",
    "print(res)\n",
    "\n",
    "resLambda = lambda a, b: a + b\n",
    "\n",
    "print(resLambda(1, 5))\n",
    "\n",
    "# Quelle est la différence entre une fonction normale et une fonction lambda ?\n",
    "# 👉 Une fonction lambda est anonyme et sur une seule ligne."
   ]
  },
  {
   "cell_type": "code",
   "execution_count": 8,
   "metadata": {},
   "outputs": [
    {
     "name": "stdout",
     "output_type": "stream",
     "text": [
      "1\n",
      "3\n",
      "5\n",
      "7\n",
      "9\n",
      "[2, 4, 6, 8]\n"
     ]
    }
   ],
   "source": [
    "for i in range(1, 10):\n",
    "    if i % 2 != 0:\n",
    "        print(i)\n",
    "            \n",
    "res = [x for x in range(1, 10) if x % 2 == 0]\n",
    "print(res)\n",
    "\n",
    "# Quelle est la différence entre une boucle normale et une list comprehension ?\n",
    "# 👉 La list comprehension est plus rapide et plus concise."
   ]
  },
  {
   "cell_type": "code",
   "execution_count": 11,
   "metadata": {},
   "outputs": [
    {
     "name": "stdout",
     "output_type": "stream",
     "text": [
      "Error: division by zero\n",
      "Finally\n"
     ]
    }
   ],
   "source": [
    "try:\n",
    "    print(10 / 0)\n",
    "except Exception as e:\n",
    "    print(f\"Error: {e}\")\n",
    "finally:\n",
    "    print(\"Finally\")\n",
    "\n",
    "# Pourquoi utiliser finally en Python ?\n",
    "# 👉 Il s'exécute toujours, même si une erreur survient."
   ]
  },
  {
   "cell_type": "code",
   "execution_count": null,
   "metadata": {},
   "outputs": [
    {
     "name": "stdout",
     "output_type": "stream",
     "text": [
      "Task called\n"
     ]
    }
   ],
   "source": [
    "import threading\n",
    "\n",
    "def task():\n",
    "    print(\"Task called\") \n",
    "    \n",
    "t  = threading.Thread(target=task)\n",
    "\n",
    "t.start()\n",
    "t.join()\n",
    "\n",
    "# Quelle est la différence entre threading et multiprocessing ?\n",
    "# 👉 threading partage la mémoire, multiprocessing crée des processus séparés"
   ]
  },
  {
   "cell_type": "code",
   "execution_count": 20,
   "metadata": {},
   "outputs": [
    {
     "name": "stdout",
     "output_type": "stream",
     "text": [
      "Start\n",
      "Welcome to the program\n",
      "End\n"
     ]
    }
   ],
   "source": [
    "# Les décorateurs modifient le comportement d’une fonction.\n",
    "\n",
    "def decorateur(fonction):\n",
    "    def wrapper():\n",
    "        print(\"Start\")\n",
    "        fonction()\n",
    "        print(\"End\")\n",
    "    return wrapper\n",
    "\n",
    "@decorateur\n",
    "def welcome():\n",
    "    print(\"Welcome to the program\")\n",
    "    \n",
    "welcome()\n",
    "\n",
    "\n",
    "# À quoi sert @staticmethod et @classmethod ?\n",
    "# 👉 @staticmethod ne modifie pas l’état de la classe, @classmethod reçoit la classe en paramètre."
   ]
  }
 ],
 "metadata": {
  "kernelspec": {
   "display_name": "Python 3",
   "language": "python",
   "name": "python3"
  },
  "language_info": {
   "codemirror_mode": {
    "name": "ipython",
    "version": 3
   },
   "file_extension": ".py",
   "mimetype": "text/x-python",
   "name": "python",
   "nbconvert_exporter": "python",
   "pygments_lexer": "ipython3",
   "version": "3.12.3"
  }
 },
 "nbformat": 4,
 "nbformat_minor": 2
}
