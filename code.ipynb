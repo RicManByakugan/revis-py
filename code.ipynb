{
 "cells": [
  {
   "cell_type": "code",
   "execution_count": 10,
   "metadata": {},
   "outputs": [
    {
     "name": "stdout",
     "output_type": "stream",
     "text": [
      "Non\n"
     ]
    }
   ],
   "source": [
    "username = \"Man\"\n",
    "age = 20\n",
    "\n",
    "text = (\"Non\", \"Oui\")[age == 18]\n",
    "print (text)"
   ]
  },
  {
   "cell_type": "code",
   "execution_count": 46,
   "metadata": {},
   "outputs": [
    {
     "name": "stdout",
     "output_type": "stream",
     "text": [
      "<class 'tuple'>\n",
      "['Alice', 'Jean']\n",
      "['Alice', 'Jean']\n"
     ]
    }
   ],
   "source": [
    "player = ['Man', 'Bob', 'Alice', 'Jean'],\n",
    "print(type(player))\n",
    "print(player[0][2:])\n",
    "\n",
    "del player[0][0]\n",
    "player[0].remove(\"Bob\")\n",
    "\n",
    "print(player[0])"
   ]
  },
  {
   "cell_type": "code",
   "execution_count": 40,
   "metadata": {},
   "outputs": [
    {
     "name": "stdout",
     "output_type": "stream",
     "text": [
      "10\n"
     ]
    }
   ],
   "source": [
    "# import statistics\n",
    "from statistics import mean\n",
    "\n",
    "data = [10, 10, 10]\n",
    "\n",
    "data.append(10)\n",
    "\n",
    "result = mean(data)\n",
    "\n",
    "print(result)"
   ]
  },
  {
   "cell_type": "code",
   "execution_count": 42,
   "metadata": {},
   "outputs": [
    {
     "name": "stdout",
     "output_type": "stream",
     "text": [
      "<class 'str'>\n",
      "<class 'list'>\n",
      "['2', '3']\n",
      "2\n",
      "3\n"
     ]
    }
   ],
   "source": [
    "text = input(\"Enter two number : (nb1-nb2) : \")\n",
    "print(type(text))\n",
    "text = text.split(\"-\")\n",
    "print(type(text))\n",
    "print(text)\n",
    "nb1 = int(text[0])\n",
    "nb2 = int(text[1])\n",
    "print(nb1)\n",
    "print(nb2)"
   ]
  },
  {
   "cell_type": "code",
   "execution_count": 53,
   "metadata": {},
   "outputs": [
    {
     "name": "stdout",
     "output_type": "stream",
     "text": [
      "1\n",
      "2\n",
      "3\n",
      "4\n",
      "5\n",
      "You are blacklisted\n",
      "z@gmail.com\n"
     ]
    }
   ],
   "source": [
    "for num in range(1, 6):\n",
    "    print(num)\n",
    "    \n",
    "emails = ['ab@gmail.com', 'z@gmail.com']\n",
    "blackList = ['ab@gmail.com']\n",
    "\n",
    "for email in emails:\n",
    "    # if 'gmail' in email:\n",
    "    if email in blackList:\n",
    "        print(\"You are blacklisted\")\n",
    "        continue\n",
    "    print(email)\n"
   ]
  },
  {
   "cell_type": "code",
   "execution_count": 60,
   "metadata": {},
   "outputs": [
    {
     "name": "stdout",
     "output_type": "stream",
     "text": [
      "2750.0\n",
      "3025.0000000000005\n",
      "3327.500000000001\n",
      "3660.2500000000014\n",
      "4026.275000000002\n",
      "4428.902500000003\n",
      "4871.792750000003\n",
      "5358.972025000004\n",
      "5894.869227500005\n",
      "6484.356150250006\n",
      "7132.7917652750075\n",
      "7846.070941802509\n",
      "8630.67803598276\n",
      "9493.745839581037\n",
      "10443.120423539141\n",
      "11487.432465893056\n",
      "12636.175712482363\n",
      "13899.793283730602\n",
      "15289.772612103663\n",
      "16818.74987331403\n",
      "18500.624860645436\n",
      "20350.68734670998\n",
      "22385.75608138098\n",
      "24624.33168951908\n",
      "27086.76485847099\n"
     ]
    }
   ],
   "source": [
    "count = 2500\n",
    "month = 0\n",
    "\n",
    "while month <= 24:\n",
    "    #  + 10% chaque mois = 1 + (10/100) = 1.10\n",
    "    count *= 1.10\n",
    "    print(count)\n",
    "    month += 1"
   ]
  },
  {
   "cell_type": "code",
   "execution_count": 64,
   "metadata": {},
   "outputs": [
    {
     "name": "stdout",
     "output_type": "stream",
     "text": [
      "Too low\n",
      "Too high\n",
      "Too high\n",
      "Too high\n",
      "Too high\n",
      "You win\n"
     ]
    }
   ],
   "source": [
    "# Generate one number random\n",
    "import random\n",
    "number = random.randint(1, 10)\n",
    "isExit = True\n",
    "\n",
    "while isExit:\n",
    "    guess = int(input(\"Enter a number : \"))\n",
    "    if guess == number:\n",
    "        print(\"You win\")\n",
    "        isExit = False\n",
    "    elif guess > number:\n",
    "        print(\"Too high\")\n",
    "    elif guess < number:\n",
    "        print(\"Too low\")\n",
    "    else:\n",
    "        print(\"Try again\")"
   ]
  },
  {
   "cell_type": "code",
   "execution_count": 75,
   "metadata": {},
   "outputs": [
    {
     "name": "stdout",
     "output_type": "stream",
     "text": [
      "Welcome to the game Man\n",
      "True\n",
      "5 max than 2\n",
      "None\n"
     ]
    }
   ],
   "source": [
    "def welcome(name=\"Man\"):\n",
    "    print(\"Welcome to the game\", name)\n",
    "\n",
    "def play_game():\n",
    "    return True\n",
    "\n",
    "name = \"Name\"\n",
    "welcome()\n",
    "print(play_game())\n",
    "\n",
    "def comparetwonumbers(nb1, nb2):\n",
    "    # return max(nb1, nb2)\n",
    "    if nb1 < nb2:\n",
    "        print(f\"{nb2} max than {nb1}\")\n",
    "    elif nb1 > nb2:\n",
    "        print(f\"{nb1} max than {nb2}\")\n",
    "    else:\n",
    "        print(f\"{nb1} and {nb2} are equal\")\n",
    "print(comparetwonumbers(5, 2))"
   ]
  },
  {
   "cell_type": "code",
   "execution_count": 77,
   "metadata": {},
   "outputs": [
    {
     "name": "stdout",
     "output_type": "stream",
     "text": [
      "2\n"
     ]
    }
   ],
   "source": [
    "def getV(mot):\n",
    "    vowels = ['a', 'e', 'i', 'o', 'u', 'y']\n",
    "    somme = 0\n",
    "    for char in mot:\n",
    "        if char in vowels:\n",
    "            somme += 1\n",
    "    return somme\n",
    "\n",
    "print(getV(\"Python\"))"
   ]
  }
 ],
 "metadata": {
  "kernelspec": {
   "display_name": "Python 3",
   "language": "python",
   "name": "python3"
  },
  "language_info": {
   "codemirror_mode": {
    "name": "ipython",
    "version": 3
   },
   "file_extension": ".py",
   "mimetype": "text/x-python",
   "name": "python",
   "nbconvert_exporter": "python",
   "pygments_lexer": "ipython3",
   "version": "3.12.3"
  }
 },
 "nbformat": 4,
 "nbformat_minor": 2
}
