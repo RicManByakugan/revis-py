{
 "cells": [
  {
   "cell_type": "markdown",
   "metadata": {},
   "source": [
    "# Exécution en parallèle"
   ]
  },
  {
   "cell_type": "markdown",
   "metadata": {},
   "source": [
    "Multithreading en Python (threading)\n",
    "📌 Le multithreading exécute plusieurs tâches en parallèle, mais le GIL (Global Interpreter Lock) empêche l’exécution simultanée de plusieurs threads Python.\n",
    "👉 Utile pour les tâches I/O comme les requêtes réseau, le téléchargement de fichiers."
   ]
  },
  {
   "cell_type": "code",
   "execution_count": 4,
   "metadata": {},
   "outputs": [
    {
     "name": "stdout",
     "output_type": "stream",
     "text": [
      "Tâche A - étape 1\n",
      "Tâche B - étape 1\n",
      "Tâche A - étape 2\n",
      "Tâche B - étape 2\n",
      "Tâche A - étape 3\n",
      "Tâche B - étape 3\n",
      "Fin du programme\n"
     ]
    }
   ],
   "source": [
    "import threading\n",
    "import time\n",
    "\n",
    "def tache(nom):\n",
    "    for i in range(3):\n",
    "        time.sleep(1)\n",
    "        print(f\"Tâche {nom} - étape {i+1}\")\n",
    "\n",
    "# Création de threads\n",
    "thread1 = threading.Thread(target=tache, args=(\"A\",))\n",
    "thread2 = threading.Thread(target=tache, args=(\"B\",))\n",
    "\n",
    "# Démarrer les threads\n",
    "thread1.start()\n",
    "thread2.start()\n",
    "\n",
    "# Attendre la fin des threads\n",
    "thread1.join()\n",
    "thread2.join()\n",
    "\n",
    "print(\"Fin du programme\")\n"
   ]
  },
  {
   "cell_type": "markdown",
   "metadata": {},
   "source": [
    "🔥 Multiprocessing en Python (multiprocessing)\n",
    "📌 Le multiprocessing permet d’exécuter des processus séparés qui ne sont pas affectés par le GIL.\n",
    "👉 Utile pour les tâches gourmandes en CPU comme l’analyse de données, le traitement d’images, le chiffrement."
   ]
  },
  {
   "cell_type": "code",
   "execution_count": 5,
   "metadata": {},
   "outputs": [
    {
     "name": "stdout",
     "output_type": "stream",
     "text": [
      "Fin du programme\n"
     ]
    }
   ],
   "source": [
    "import multiprocessing\n",
    "import time\n",
    "\n",
    "def tache(nom):\n",
    "    for i in range(3):\n",
    "        time.sleep(1)\n",
    "        print(f\"Process {nom} - étape {i+1}\")\n",
    "\n",
    "# Création de processus\n",
    "process1 = multiprocessing.Process(target=tache, args=(\"A\",))\n",
    "process2 = multiprocessing.Process(target=tache, args=(\"B\",))\n",
    "\n",
    "# Démarrer les processus\n",
    "process1.start()\n",
    "process2.start()\n",
    "\n",
    "# Attendre la fin des processus\n",
    "process1.join()\n",
    "process2.join()\n",
    "\n",
    "print(\"Fin du programme\")\n"
   ]
  }
 ],
 "metadata": {
  "kernelspec": {
   "display_name": "Python 3",
   "language": "python",
   "name": "python3"
  },
  "language_info": {
   "codemirror_mode": {
    "name": "ipython",
    "version": 3
   },
   "file_extension": ".py",
   "mimetype": "text/x-python",
   "name": "python",
   "nbconvert_exporter": "python",
   "pygments_lexer": "ipython3",
   "version": "3.12.3"
  }
 },
 "nbformat": 4,
 "nbformat_minor": 2
}
