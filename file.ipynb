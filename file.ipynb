{
 "cells": [
  {
   "cell_type": "code",
   "execution_count": 15,
   "metadata": {},
   "outputs": [
    {
     "name": "stdout",
     "output_type": "stream",
     "text": [
      "7\n",
      "\n",
      "d:\\TESTK\\py\n"
     ]
    }
   ],
   "source": [
    "import os\n",
    "import random\n",
    "\n",
    "data_list = [1, 2, 3, 4, 5, 6, 7, 8, 9, 10]\n",
    "\n",
    "if os.path.exists(\"test.txt\"):\n",
    "    with open(\"test.txt\", \"w\") as file:\n",
    "        for data in data_list:\n",
    "            file.write(str(data) + \"\\n\")\n",
    "        file.close()\n",
    "\n",
    "    with open(\"test.txt\", \"r\") as file:\n",
    "        lines = file.readlines()\n",
    "        result = random.choice(lines)\n",
    "        print(result)\n",
    "        file.close()\n",
    "else:\n",
    "    print(\"The file does not exist.\")\n",
    "\n",
    "print(os.getcwd())"
   ]
  },
  {
   "cell_type": "code",
   "execution_count": 17,
   "metadata": {},
   "outputs": [
    {
     "data": {
      "text/plain": [
       "'image/logo.png'"
      ]
     },
     "execution_count": 17,
     "metadata": {},
     "output_type": "execute_result"
    }
   ],
   "source": [
    "import os\n",
    "import shutil\n",
    "\n",
    "source = \"logo.png\"\n",
    "target = \"image/logo.png\"\n",
    "\n",
    "# shutil.copy(source, target)\n",
    "# os.remove(source)\n",
    "shutil.move(source, target)"
   ]
  },
  {
   "cell_type": "code",
   "execution_count": 21,
   "metadata": {},
   "outputs": [],
   "source": [
    "import tkinter\n",
    "import random\n",
    "import os\n",
    "\n",
    "source = \"meal.txt\"\n",
    "meal_list = [\"Pizza\", \"Burger\", \"Pasta\", \"Noodles\", \"Fried Rice\", \"Sandwich\", \"Salad\", \"Soup\", \"Sushi\", \"Steak\"]\n",
    "with open(\"meal.txt\", \"w\") as file:\n",
    "    for meal in meal_list:\n",
    "        file.write(meal + \"\\n\")\n",
    "    file.close()\n",
    "\n",
    "with open(source, \"r\") as file:\n",
    "    lines = file.readlines()\n",
    "    result = random.choice(lines)\n",
    "    file.close()\n",
    "\n",
    "def getNewCommand():\n",
    "    with open(source, \"r\") as file:\n",
    "        lines = file.readlines()\n",
    "        result = random.choice(lines)\n",
    "        label.config(text=result)\n",
    "        file.close()\n",
    "\n",
    "window = tkinter.Tk()\n",
    "\n",
    "window.title(\"My First GUI Program\")\n",
    "window.minsize(width=500, height=300)\n",
    "\n",
    "frame = tkinter.Frame(window, padx=20, pady=20)\n",
    "label = tkinter.Label(frame, text=result)\n",
    "label.pack()\n",
    "\n",
    "button = tkinter.Button(frame, text=\"Generate Random Command\", command=getNewCommand)\n",
    "button.pack()\n",
    "\n",
    "frame.pack()\n",
    "window.mainloop()"
   ]
  },
  {
   "cell_type": "code",
   "execution_count": null,
   "metadata": {},
   "outputs": [
    {
     "name": "stdout",
     "output_type": "stream",
     "text": [
      "['Name', 'Age', 'Grade', 'Subjects']\n",
      "[]\n",
      "['Man', '12', '8', \"['Math', 'Science', 'English']\"]\n",
      "[]\n",
      "['Bob', '15', '10', \"['Math', 'Science', 'History', 'Geography']\"]\n",
      "[]\n",
      "['Charlie', '10', '9', \"['Math', 'Science', 'English', 'Biology']\"]\n",
      "[]\n",
      "['Eric', '13', '8', \"['Math', 'Science', 'English']\"]\n",
      "[]\n",
      "Man 8\n",
      "Bob 10\n",
      "Charlie 9\n",
      "Eric 8\n"
     ]
    },
    {
     "ename": "Error",
     "evalue": "iterable expected, not int",
     "output_type": "error",
     "traceback": [
      "\u001b[1;31m---------------------------------------------------------------------------\u001b[0m",
      "\u001b[1;31mError\u001b[0m                                     Traceback (most recent call last)",
      "Cell \u001b[1;32mIn[42], line 28\u001b[0m\n\u001b[0;32m     26\u001b[0m writer\u001b[38;5;241m.\u001b[39mwriterow([\u001b[38;5;124m\"\u001b[39m\u001b[38;5;124mName\u001b[39m\u001b[38;5;124m\"\u001b[39m, \u001b[38;5;124m\"\u001b[39m\u001b[38;5;124mAge\u001b[39m\u001b[38;5;124m\"\u001b[39m, \u001b[38;5;124m\"\u001b[39m\u001b[38;5;124mGrade\u001b[39m\u001b[38;5;124m\"\u001b[39m, \u001b[38;5;124m\"\u001b[39m\u001b[38;5;124mSubjects\u001b[39m\u001b[38;5;124m\"\u001b[39m])\n\u001b[0;32m     27\u001b[0m \u001b[38;5;28;01mfor\u001b[39;00m eleve, value \u001b[38;5;129;01min\u001b[39;00m eleves\u001b[38;5;241m.\u001b[39mitems():\n\u001b[1;32m---> 28\u001b[0m     \u001b[43mwriter\u001b[49m\u001b[38;5;241;43m.\u001b[39;49m\u001b[43mwriterows\u001b[49m\u001b[43m(\u001b[49m\u001b[43m[\u001b[49m\u001b[43meleve\u001b[49m\u001b[43m,\u001b[49m\u001b[43m \u001b[49m\u001b[43mvalue\u001b[49m\u001b[43m[\u001b[49m\u001b[38;5;124;43m\"\u001b[39;49m\u001b[38;5;124;43mage\u001b[39;49m\u001b[38;5;124;43m\"\u001b[39;49m\u001b[43m]\u001b[49m\u001b[43m,\u001b[49m\u001b[43m \u001b[49m\u001b[43mvalue\u001b[49m\u001b[43m[\u001b[49m\u001b[38;5;124;43m\"\u001b[39;49m\u001b[38;5;124;43mgrade\u001b[39;49m\u001b[38;5;124;43m\"\u001b[39;49m\u001b[43m]\u001b[49m\u001b[43m,\u001b[49m\u001b[43m \u001b[49m\u001b[43mvalue\u001b[49m\u001b[43m[\u001b[49m\u001b[38;5;124;43m\"\u001b[39;49m\u001b[38;5;124;43msubjects\u001b[39;49m\u001b[38;5;124;43m\"\u001b[39;49m\u001b[43m]\u001b[49m\u001b[43m]\u001b[49m\u001b[43m)\u001b[49m\n",
      "\u001b[1;31mError\u001b[0m: iterable expected, not int"
     ]
    }
   ],
   "source": [
    "import json\n",
    "import csv\n",
    "\n",
    "with open(\"eleve.csv\", \"r\") as file:\n",
    "    reader = csv.reader(file)\n",
    "    for row in reader:\n",
    "        print(row)\n",
    "\n",
    "with open(\"eleve.json\", \"r\") as file:\n",
    "    eleves = json.load(file)\n",
    "\n",
    "eleves[\"Eric\"] = {\n",
    "    \"age\": 13,\n",
    "    \"grade\": 8,\n",
    "    \"subjects\": [\"Math\", \"Science\", \"English\"]\n",
    "}\n",
    "\n",
    "for eleve, value in eleves.items():\n",
    "    print(eleve, value['grade'])\n",
    "    \n",
    "with open(\"eleve.json\", \"w\") as file:\n",
    "    json.dump(eleves, file)\n",
    "    \n",
    "with open(\"eleve.csv\", \"w\") as file:\n",
    "    writer = csv.writer(file)\n",
    "    writer.writerow([\"Name\", \"Age\", \"Grade\", \"Subjects\"])\n",
    "    for eleve, value in eleves.items():\n",
    "        writer.writerow([eleve, value[\"age\"], value[\"grade\"], value[\"subjects\"]])"
   ]
  }
 ],
 "metadata": {
  "kernelspec": {
   "display_name": "Python 3",
   "language": "python",
   "name": "python3"
  },
  "language_info": {
   "codemirror_mode": {
    "name": "ipython",
    "version": 3
   },
   "file_extension": ".py",
   "mimetype": "text/x-python",
   "name": "python",
   "nbconvert_exporter": "python",
   "pygments_lexer": "ipython3",
   "version": "3.12.3"
  }
 },
 "nbformat": 4,
 "nbformat_minor": 2
}
